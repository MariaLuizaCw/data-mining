{
 "cells": [
  {
   "cell_type": "code",
   "execution_count": 1,
   "metadata": {},
   "outputs": [
    {
     "name": "stdout",
     "output_type": "stream",
     "text": [
      "SQL script generated and saved as 'create_partitions.sql'\n"
     ]
    }
   ],
   "source": [
    "from datetime import datetime, timedelta\n",
    "\n",
    "start_date = datetime(2024, 4, 24)\n",
    "end_date = datetime(2024, 5, 11, 23, 59, 59)\n",
    "current_time = start_date\n",
    "\n",
    "partition_sql_template = \"\"\"\n",
    "CREATE TABLE vehicle_tracking_{year}{month:02}{day:02}_{hour:02}{minute:02} PARTITION OF vehicle_tracking\n",
    "    FOR VALUES FROM ('{start_time}') TO ('{end_time}');\n",
    "\"\"\"\n",
    "\n",
    "with open('create_partitions.sql', 'w') as f:\n",
    "    while current_time <= end_date:\n",
    "        next_time = current_time + timedelta(hours=1)\n",
    "        partition_sql = partition_sql_template.format(\n",
    "            year=current_time.year,\n",
    "            month=current_time.month,\n",
    "            day=current_time.day,\n",
    "            hour=current_time.hour,\n",
    "            minute=0,  # Minutes are always zero since we are partitioning by hour\n",
    "            start_time=current_time.strftime('%Y-%m-%d %H:%M:%S'),\n",
    "            end_time=next_time.strftime('%Y-%m-%d %H:%M:%S')\n",
    "        )\n",
    "        f.write(partition_sql)\n",
    "        current_time = next_time\n",
    "\n",
    "print(\"SQL script generated and saved as 'create_partitions.sql'\")\n"
   ]
  }
 ],
 "metadata": {
  "kernelspec": {
   "display_name": "env",
   "language": "python",
   "name": "python3"
  },
  "language_info": {
   "codemirror_mode": {
    "name": "ipython",
    "version": 3
   },
   "file_extension": ".py",
   "mimetype": "text/x-python",
   "name": "python",
   "nbconvert_exporter": "python",
   "pygments_lexer": "ipython3",
   "version": "3.10.3"
  },
  "orig_nbformat": 4
 },
 "nbformat": 4,
 "nbformat_minor": 2
}
