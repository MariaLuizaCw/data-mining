{
 "cells": [
  {
   "cell_type": "code",
   "execution_count": null,
   "metadata": {},
   "outputs": [],
   "source": [
    "import psycopg2\n",
    "import pandas as pd\n",
    "import matplotlib.pyplot as plt\n",
    "from shapely.wkt import loads\n",
    "import geopandas as gpd"
   ]
  },
  {
   "cell_type": "code",
   "execution_count": 3,
   "metadata": {},
   "outputs": [],
   "source": [
    "# Conectar ao banco de dados PostgreSQL\n",
    "conn = psycopg2.connect(\n",
    "    dbname=\"postgres\",\n",
    "    user=\"postgres\",\n",
    "    password=\"postgres\",\n",
    "    host=\"localhost\",\n",
    "    port=\"5432\"\n",
    ")"
   ]
  },
  {
   "cell_type": "markdown",
   "metadata": {},
   "source": [
    "### Plot Grid and Points for 606"
   ]
  },
  {
   "cell_type": "code",
   "execution_count": 7,
   "metadata": {},
   "outputs": [
    {
     "name": "stderr",
     "output_type": "stream",
     "text": [
      "C:\\Users\\mwuillau\\AppData\\Local\\Temp\\ipykernel_25276\\3679883692.py:18: UserWarning: pandas only supports SQLAlchemy connectable (engine/connection) or database string URI or sqlite3 DBAPI2 connection. Other DBAPI2 objects are not tested. Please consider using SQLAlchemy.\n",
      "  df_grid = pd.read_sql(query_grid, conn)\n"
     ]
    }
   ],
   "source": [
    "specific_line = '606'  # Replace with the desired line identifier\n",
    "\n",
    "# Query to retrieve grid data for the specific line\n",
    "query_grid = f\"\"\"\n",
    "SELECT id, ST_AsText(geom) AS geom\n",
    "FROM grid_cells_linha\n",
    "WHERE linha = '{specific_line}'\n",
    "\"\"\"\n",
    "\n",
    "# Query to retrieve point data for the specific line\n",
    "query_points = f\"\"\"\n",
    "SELECT ST_AsText(geom) AS geom\n",
    "FROM public.vehicle_tracking\n",
    "WHERE linha = '{specific_line}' AND datahora >= '20240508_0000' AND datahora < '20240509_0000'\n",
    "\"\"\"\n",
    "\n",
    "# Read data into pandas DataFrames\n",
    "df_grid = pd.read_sql(query_grid, conn)\n",
    "df_points = pd.read_sql(query_points, conn)\n",
    "\n",
    "# Close the database connection\n",
    "conn.close()\n"
   ]
  },
  {
   "cell_type": "code",
   "execution_count": 4,
   "metadata": {},
   "outputs": [
    {
     "ename": "NameError",
     "evalue": "name 'df_grid' is not defined",
     "output_type": "error",
     "traceback": [
      "\u001b[1;31m---------------------------------------------------------------------------\u001b[0m",
      "\u001b[1;31mNameError\u001b[0m                                 Traceback (most recent call last)",
      "Cell \u001b[1;32mIn[4], line 2\u001b[0m\n\u001b[0;32m      1\u001b[0m \u001b[39m# Convert the geometry data to GeoDataFrames\u001b[39;00m\n\u001b[1;32m----> 2\u001b[0m df_grid[\u001b[39m'\u001b[39m\u001b[39mgeometry\u001b[39m\u001b[39m'\u001b[39m] \u001b[39m=\u001b[39m df_grid[\u001b[39m'\u001b[39m\u001b[39mgeom\u001b[39m\u001b[39m'\u001b[39m]\u001b[39m.\u001b[39mapply(loads)\n\u001b[0;32m      3\u001b[0m gdf_grid \u001b[39m=\u001b[39m gpd\u001b[39m.\u001b[39mGeoDataFrame(df_grid, geometry\u001b[39m=\u001b[39m\u001b[39m'\u001b[39m\u001b[39mgeometry\u001b[39m\u001b[39m'\u001b[39m, crs\u001b[39m=\u001b[39m\u001b[39m\"\u001b[39m\u001b[39mEPSG:4326\u001b[39m\u001b[39m\"\u001b[39m)\n\u001b[0;32m      5\u001b[0m df_points[\u001b[39m'\u001b[39m\u001b[39mgeometry\u001b[39m\u001b[39m'\u001b[39m] \u001b[39m=\u001b[39m df_points[\u001b[39m'\u001b[39m\u001b[39mgeom\u001b[39m\u001b[39m'\u001b[39m]\u001b[39m.\u001b[39mapply(loads)\n",
      "\u001b[1;31mNameError\u001b[0m: name 'df_grid' is not defined"
     ]
    }
   ],
   "source": [
    "# Convert the geometry data to GeoDataFrames\n",
    "df_grid['geometry'] = df_grid['geom'].apply(loads)\n",
    "gdf_grid = gpd.GeoDataFrame(df_grid, geometry='geometry', crs=\"EPSG:4326\")\n",
    "\n",
    "df_points['geometry'] = df_points['geom'].apply(loads)\n",
    "gdf_points = gpd.GeoDataFrame(df_points, geometry='geometry', crs=\"EPSG:4326\")\n",
    "\n",
    "# Plot the grid and the points\n",
    "fig, ax = plt.subplots(figsize=(10, 10))\n",
    "\n",
    "# Plot grid cells\n",
    "gdf_grid.plot(ax=ax, color='none', edgecolor='blue', linewidth=0.5)\n",
    "\n",
    "# Plot points\n",
    "gdf_points.plot(ax=ax, color='red', markersize=1, alpha=0.7)\n",
    "\n",
    "# Customize plot\n",
    "plt.title(f'Grid and Points for Line {specific_line}')\n",
    "plt.xlabel('Longitude')\n",
    "plt.ylabel('Latitude')\n",
    "plt.grid(True)\n",
    "\n",
    "# Show plot\n",
    "plt.show()"
   ]
  },
  {
   "cell_type": "code",
   "execution_count": null,
   "metadata": {},
   "outputs": [],
   "source": [
    "\n",
    "\n",
    "\n",
    "# Consultar os dados de contagem de pontos de 00h às 5h\n",
    "query_00_05 = \"\"\"\n",
    "SELECT linha, point_count\n",
    "FROM grid_point_counts_00_05\n",
    "\"\"\"\n",
    "\n",
    "# Ler os dados em um DataFrame do pandas\n",
    "df_00_05 = pd.read_sql(query_00_05, conn)\n",
    "\n",
    "# Consultar os dados de contagem de pontos de 5h às 24h\n",
    "query_05_24 = \"\"\"\n",
    "SELECT linha, point_count\n",
    "FROM grid_point_counts_05_24\n",
    "\"\"\"\n",
    "\n",
    "# Ler os dados em um DataFrame do pandas\n",
    "df_05_24 = pd.read_sql(query_05_24, conn)\n",
    "\n",
    "# Fechar a conexão com o banco de dados\n",
    "conn.close()\n",
    "\n",
    "# Plotar o histograma para cada faixa de tempo\n",
    "def plot_histogram(df, title):\n",
    "    plt.figure(figsize=(10, 6))\n",
    "    plt.hist(df['point_count'], bins=30, edgecolor='black', alpha=0.7)\n",
    "    plt.title(title)\n",
    "    plt.xlabel('Número de Pontos')\n",
    "    plt.ylabel('Frequência')\n",
    "    plt.yscale('log')  # Usar escala logarítmica"
   ]
  }
 ],
 "metadata": {
  "kernelspec": {
   "display_name": "env",
   "language": "python",
   "name": "python3"
  },
  "language_info": {
   "codemirror_mode": {
    "name": "ipython",
    "version": 3
   },
   "file_extension": ".py",
   "mimetype": "text/x-python",
   "name": "python",
   "nbconvert_exporter": "python",
   "pygments_lexer": "ipython3",
   "version": "3.10.3"
  },
  "orig_nbformat": 4
 },
 "nbformat": 4,
 "nbformat_minor": 2
}
