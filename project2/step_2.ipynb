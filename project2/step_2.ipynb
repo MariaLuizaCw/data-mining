{
 "cells": [
  {
   "cell_type": "code",
   "execution_count": 1,
   "metadata": {},
   "outputs": [],
   "source": [
    "import pandas as pd \n",
    "import numpy as np\n",
    "import matplotlib.pyplot as plt\n",
    "import seaborn as sns\n",
    "import numpy as np\n",
    "\n",
    "from sklearn.model_selection import cross_val_score\n",
    "from sklearn.metrics import make_scorer, mean_squared_log_error\n",
    "from sklearn.model_selection import TimeSeriesSplit, cross_val_score\n",
    "from sklearn.linear_model import LinearRegression\n",
    "from sklearn.ensemble import RandomForestRegressor, GradientBoostingRegressor\n",
    "import matplotlib.pyplot as plt\n",
    "\n",
    "\n",
    "import pandas as pd\n",
    "from sklearn.preprocessing import OneHotEncoder\n"
   ]
  },
  {
   "cell_type": "markdown",
   "metadata": {},
   "source": [
    "\n",
    "# STEP 2: Holidays Dataset\n",
    "<hr/>"
   ]
  },
  {
   "cell_type": "code",
   "execution_count": 60,
   "metadata": {},
   "outputs": [],
   "source": [
    "df_train = pd.read_csv('./Data/step1/df_train.csv')\n",
    "df_test = pd.read_csv('./Data/step1/df_test.csv')\n",
    "df_submission = pd.read_csv('./Data/step1/df_submission.csv')\n",
    "holidays_events = pd.read_csv('./Data/kaggle/holidays_events.csv.gz')"
   ]
  },
  {
   "cell_type": "markdown",
   "metadata": {},
   "source": [
    "### National Holidays - Feature Engineering and Analysis"
   ]
  },
  {
   "cell_type": "code",
   "execution_count": 61,
   "metadata": {},
   "outputs": [],
   "source": [
    "holidays_events['date'] = pd.to_datetime(holidays_events['date'])\n",
    "df_train['date'] = pd.to_datetime(df_train['date'])\n",
    "df_test['date'] = pd.to_datetime(df_test['date'])\n",
    "df_submission['date'] = pd.to_datetime(df_submission['date'])\n",
    "\n",
    "holidays_events_fil = holidays_events[~holidays_events['transferred']]\n",
    "df_train_hl = df_train.merge(holidays_events_fil, on='date', how='left')\n",
    "df_train_hl = df_train_hl.fillna('No Holiday')\n",
    "\n",
    "df_test_hl = df_test.merge(holidays_events_fil, on='date', how='left')\n",
    "df_test_hl = df_test_hl.fillna('No Holiday')\n",
    "\n",
    "df_submission_hl = df_submission.merge(holidays_events_fil, on='date', how='left')\n",
    "df_submission_hl = df_submission_hl.fillna('No Holiday')"
   ]
  },
  {
   "cell_type": "code",
   "execution_count": 62,
   "metadata": {},
   "outputs": [
    {
     "data": {
      "text/html": [
       "<div>\n",
       "<style scoped>\n",
       "    .dataframe tbody tr th:only-of-type {\n",
       "        vertical-align: middle;\n",
       "    }\n",
       "\n",
       "    .dataframe tbody tr th {\n",
       "        vertical-align: top;\n",
       "    }\n",
       "\n",
       "    .dataframe thead th {\n",
       "        text-align: right;\n",
       "    }\n",
       "</style>\n",
       "<table border=\"1\" class=\"dataframe\">\n",
       "  <thead>\n",
       "    <tr style=\"text-align: right;\">\n",
       "      <th></th>\n",
       "      <th>id</th>\n",
       "      <th>date</th>\n",
       "      <th>store_nbr</th>\n",
       "      <th>family</th>\n",
       "      <th>sales</th>\n",
       "      <th>onpromotion</th>\n",
       "      <th>year</th>\n",
       "      <th>month</th>\n",
       "      <th>day_of_week</th>\n",
       "      <th>in_store_list</th>\n",
       "      <th>day_off_store</th>\n",
       "      <th>type</th>\n",
       "      <th>locale</th>\n",
       "      <th>locale_name</th>\n",
       "      <th>description</th>\n",
       "      <th>transferred</th>\n",
       "    </tr>\n",
       "  </thead>\n",
       "  <tbody>\n",
       "    <tr>\n",
       "      <th>0</th>\n",
       "      <td>0</td>\n",
       "      <td>2013-01-01</td>\n",
       "      <td>1</td>\n",
       "      <td>AUTOMOTIVE</td>\n",
       "      <td>0.0</td>\n",
       "      <td>0</td>\n",
       "      <td>2013</td>\n",
       "      <td>1</td>\n",
       "      <td>Tuesday</td>\n",
       "      <td>1</td>\n",
       "      <td>1.0</td>\n",
       "      <td>Holiday</td>\n",
       "      <td>National</td>\n",
       "      <td>Ecuador</td>\n",
       "      <td>Primer dia del ano</td>\n",
       "      <td>False</td>\n",
       "    </tr>\n",
       "    <tr>\n",
       "      <th>1</th>\n",
       "      <td>1</td>\n",
       "      <td>2013-01-01</td>\n",
       "      <td>1</td>\n",
       "      <td>BABY CARE</td>\n",
       "      <td>0.0</td>\n",
       "      <td>0</td>\n",
       "      <td>2013</td>\n",
       "      <td>1</td>\n",
       "      <td>Tuesday</td>\n",
       "      <td>0</td>\n",
       "      <td>1.0</td>\n",
       "      <td>Holiday</td>\n",
       "      <td>National</td>\n",
       "      <td>Ecuador</td>\n",
       "      <td>Primer dia del ano</td>\n",
       "      <td>False</td>\n",
       "    </tr>\n",
       "    <tr>\n",
       "      <th>2</th>\n",
       "      <td>2</td>\n",
       "      <td>2013-01-01</td>\n",
       "      <td>1</td>\n",
       "      <td>BEAUTY</td>\n",
       "      <td>0.0</td>\n",
       "      <td>0</td>\n",
       "      <td>2013</td>\n",
       "      <td>1</td>\n",
       "      <td>Tuesday</td>\n",
       "      <td>1</td>\n",
       "      <td>1.0</td>\n",
       "      <td>Holiday</td>\n",
       "      <td>National</td>\n",
       "      <td>Ecuador</td>\n",
       "      <td>Primer dia del ano</td>\n",
       "      <td>False</td>\n",
       "    </tr>\n",
       "    <tr>\n",
       "      <th>3</th>\n",
       "      <td>3</td>\n",
       "      <td>2013-01-01</td>\n",
       "      <td>1</td>\n",
       "      <td>BEVERAGES</td>\n",
       "      <td>0.0</td>\n",
       "      <td>0</td>\n",
       "      <td>2013</td>\n",
       "      <td>1</td>\n",
       "      <td>Tuesday</td>\n",
       "      <td>1</td>\n",
       "      <td>1.0</td>\n",
       "      <td>Holiday</td>\n",
       "      <td>National</td>\n",
       "      <td>Ecuador</td>\n",
       "      <td>Primer dia del ano</td>\n",
       "      <td>False</td>\n",
       "    </tr>\n",
       "    <tr>\n",
       "      <th>4</th>\n",
       "      <td>4</td>\n",
       "      <td>2013-01-01</td>\n",
       "      <td>1</td>\n",
       "      <td>BOOKS</td>\n",
       "      <td>0.0</td>\n",
       "      <td>0</td>\n",
       "      <td>2013</td>\n",
       "      <td>1</td>\n",
       "      <td>Tuesday</td>\n",
       "      <td>1</td>\n",
       "      <td>1.0</td>\n",
       "      <td>Holiday</td>\n",
       "      <td>National</td>\n",
       "      <td>Ecuador</td>\n",
       "      <td>Primer dia del ano</td>\n",
       "      <td>False</td>\n",
       "    </tr>\n",
       "  </tbody>\n",
       "</table>\n",
       "</div>"
      ],
      "text/plain": [
       "   id       date  store_nbr      family  sales  onpromotion  year  month  \\\n",
       "0   0 2013-01-01          1  AUTOMOTIVE    0.0            0  2013      1   \n",
       "1   1 2013-01-01          1   BABY CARE    0.0            0  2013      1   \n",
       "2   2 2013-01-01          1      BEAUTY    0.0            0  2013      1   \n",
       "3   3 2013-01-01          1   BEVERAGES    0.0            0  2013      1   \n",
       "4   4 2013-01-01          1       BOOKS    0.0            0  2013      1   \n",
       "\n",
       "  day_of_week  in_store_list  day_off_store     type    locale locale_name  \\\n",
       "0     Tuesday              1            1.0  Holiday  National     Ecuador   \n",
       "1     Tuesday              0            1.0  Holiday  National     Ecuador   \n",
       "2     Tuesday              1            1.0  Holiday  National     Ecuador   \n",
       "3     Tuesday              1            1.0  Holiday  National     Ecuador   \n",
       "4     Tuesday              1            1.0  Holiday  National     Ecuador   \n",
       "\n",
       "          description transferred  \n",
       "0  Primer dia del ano       False  \n",
       "1  Primer dia del ano       False  \n",
       "2  Primer dia del ano       False  \n",
       "3  Primer dia del ano       False  \n",
       "4  Primer dia del ano       False  "
      ]
     },
     "execution_count": 62,
     "metadata": {},
     "output_type": "execute_result"
    }
   ],
   "source": [
    "df_train_hl.head()"
   ]
  },
  {
   "cell_type": "code",
   "execution_count": 6,
   "metadata": {},
   "outputs": [
    {
     "data": {
      "text/html": [
       "<div>\n",
       "<style scoped>\n",
       "    .dataframe tbody tr th:only-of-type {\n",
       "        vertical-align: middle;\n",
       "    }\n",
       "\n",
       "    .dataframe tbody tr th {\n",
       "        vertical-align: top;\n",
       "    }\n",
       "\n",
       "    .dataframe thead th {\n",
       "        text-align: right;\n",
       "    }\n",
       "</style>\n",
       "<table border=\"1\" class=\"dataframe\">\n",
       "  <thead>\n",
       "    <tr style=\"text-align: right;\">\n",
       "      <th></th>\n",
       "      <th>id</th>\n",
       "      <th>date</th>\n",
       "      <th>store_nbr</th>\n",
       "      <th>family</th>\n",
       "      <th>onpromotion</th>\n",
       "    </tr>\n",
       "  </thead>\n",
       "  <tbody>\n",
       "    <tr>\n",
       "      <th>0</th>\n",
       "      <td>3000888</td>\n",
       "      <td>2017-08-16</td>\n",
       "      <td>1</td>\n",
       "      <td>AUTOMOTIVE</td>\n",
       "      <td>0</td>\n",
       "    </tr>\n",
       "    <tr>\n",
       "      <th>1</th>\n",
       "      <td>3000889</td>\n",
       "      <td>2017-08-16</td>\n",
       "      <td>1</td>\n",
       "      <td>BABY CARE</td>\n",
       "      <td>0</td>\n",
       "    </tr>\n",
       "    <tr>\n",
       "      <th>2</th>\n",
       "      <td>3000890</td>\n",
       "      <td>2017-08-16</td>\n",
       "      <td>1</td>\n",
       "      <td>BEAUTY</td>\n",
       "      <td>2</td>\n",
       "    </tr>\n",
       "    <tr>\n",
       "      <th>3</th>\n",
       "      <td>3000891</td>\n",
       "      <td>2017-08-16</td>\n",
       "      <td>1</td>\n",
       "      <td>BEVERAGES</td>\n",
       "      <td>20</td>\n",
       "    </tr>\n",
       "    <tr>\n",
       "      <th>4</th>\n",
       "      <td>3000892</td>\n",
       "      <td>2017-08-16</td>\n",
       "      <td>1</td>\n",
       "      <td>BOOKS</td>\n",
       "      <td>0</td>\n",
       "    </tr>\n",
       "  </tbody>\n",
       "</table>\n",
       "</div>"
      ],
      "text/plain": [
       "        id       date  store_nbr      family  onpromotion\n",
       "0  3000888 2017-08-16          1  AUTOMOTIVE            0\n",
       "1  3000889 2017-08-16          1   BABY CARE            0\n",
       "2  3000890 2017-08-16          1      BEAUTY            2\n",
       "3  3000891 2017-08-16          1   BEVERAGES           20\n",
       "4  3000892 2017-08-16          1       BOOKS            0"
      ]
     },
     "execution_count": 6,
     "metadata": {},
     "output_type": "execute_result"
    }
   ],
   "source": [
    "df_submission.head()"
   ]
  },
  {
   "cell_type": "code",
   "execution_count": 7,
   "metadata": {},
   "outputs": [
    {
     "data": {
      "text/html": [
       "<div>\n",
       "<style scoped>\n",
       "    .dataframe tbody tr th:only-of-type {\n",
       "        vertical-align: middle;\n",
       "    }\n",
       "\n",
       "    .dataframe tbody tr th {\n",
       "        vertical-align: top;\n",
       "    }\n",
       "\n",
       "    .dataframe thead th {\n",
       "        text-align: right;\n",
       "    }\n",
       "</style>\n",
       "<table border=\"1\" class=\"dataframe\">\n",
       "  <thead>\n",
       "    <tr style=\"text-align: right;\">\n",
       "      <th></th>\n",
       "      <th>id</th>\n",
       "      <th>date</th>\n",
       "      <th>store_nbr</th>\n",
       "      <th>family</th>\n",
       "      <th>sales</th>\n",
       "      <th>onpromotion</th>\n",
       "    </tr>\n",
       "  </thead>\n",
       "  <tbody>\n",
       "    <tr>\n",
       "      <th>0</th>\n",
       "      <td>2596374</td>\n",
       "      <td>2017-01-01</td>\n",
       "      <td>1</td>\n",
       "      <td>AUTOMOTIVE</td>\n",
       "      <td>0.0</td>\n",
       "      <td>0</td>\n",
       "    </tr>\n",
       "    <tr>\n",
       "      <th>1</th>\n",
       "      <td>2596375</td>\n",
       "      <td>2017-01-01</td>\n",
       "      <td>1</td>\n",
       "      <td>BABY CARE</td>\n",
       "      <td>0.0</td>\n",
       "      <td>0</td>\n",
       "    </tr>\n",
       "    <tr>\n",
       "      <th>2</th>\n",
       "      <td>2596376</td>\n",
       "      <td>2017-01-01</td>\n",
       "      <td>1</td>\n",
       "      <td>BEAUTY</td>\n",
       "      <td>0.0</td>\n",
       "      <td>0</td>\n",
       "    </tr>\n",
       "    <tr>\n",
       "      <th>3</th>\n",
       "      <td>2596377</td>\n",
       "      <td>2017-01-01</td>\n",
       "      <td>1</td>\n",
       "      <td>BEVERAGES</td>\n",
       "      <td>0.0</td>\n",
       "      <td>0</td>\n",
       "    </tr>\n",
       "    <tr>\n",
       "      <th>4</th>\n",
       "      <td>2596378</td>\n",
       "      <td>2017-01-01</td>\n",
       "      <td>1</td>\n",
       "      <td>BOOKS</td>\n",
       "      <td>0.0</td>\n",
       "      <td>0</td>\n",
       "    </tr>\n",
       "  </tbody>\n",
       "</table>\n",
       "</div>"
      ],
      "text/plain": [
       "        id       date  store_nbr      family  sales  onpromotion\n",
       "0  2596374 2017-01-01          1  AUTOMOTIVE    0.0            0\n",
       "1  2596375 2017-01-01          1   BABY CARE    0.0            0\n",
       "2  2596376 2017-01-01          1      BEAUTY    0.0            0\n",
       "3  2596377 2017-01-01          1   BEVERAGES    0.0            0\n",
       "4  2596378 2017-01-01          1       BOOKS    0.0            0"
      ]
     },
     "execution_count": 7,
     "metadata": {},
     "output_type": "execute_result"
    }
   ],
   "source": [
    "df_test.head()"
   ]
  },
  {
   "cell_type": "markdown",
   "metadata": {},
   "source": [
    "- Merge holidays and training set for studing"
   ]
  },
  {
   "cell_type": "code",
   "execution_count": 63,
   "metadata": {},
   "outputs": [],
   "source": [
    "def create_national_vars(df, locale):\n",
    "    \n",
    "    df[f'is_{locale}_holiday'] = (df['locale'] == locale).astype(int)\n",
    "    date_list_national = df[df[f'is_{locale}_holiday'] == 1]['date'].unique()\n",
    "    df['day_after_national_holiday'] = df['date'].apply(\n",
    "        lambda x: (x - pd.Timedelta(days=1)) in date_list_national\n",
    "    ).astype(int)\n",
    "\n",
    "    df['day_before_national_holiday'] = df['date'].apply(\n",
    "        lambda x: (x + pd.Timedelta(days=1)) in date_list_national\n",
    "    ).astype(int)\n",
    "    return df"
   ]
  },
  {
   "cell_type": "code",
   "execution_count": 64,
   "metadata": {},
   "outputs": [],
   "source": [
    "df_train_hl = create_national_vars(df_train_hl, 'National')\n",
    "df_test_hl = create_national_vars(df_test_hl, 'National')\n",
    "df_submission_hl = create_national_vars(df_submission_hl, 'National')"
   ]
  },
  {
   "cell_type": "markdown",
   "metadata": {},
   "source": [
    "- Create binary feature to track national holidays and the days near it: after/before"
   ]
  },
  {
   "cell_type": "markdown",
   "metadata": {},
   "source": [
    "### Local and Regional Holidays - Feature Engineering and Analysis"
   ]
  },
  {
   "cell_type": "code",
   "execution_count": 65,
   "metadata": {},
   "outputs": [],
   "source": [
    "df_train_hl['is_Local_holiday'] = (df_train_hl['locale'] == 'Local').astype(int)\n",
    "df_train_hl['is_Regional_holiday'] = (df_train_hl['locale'] == 'Regional').astype(int)\n",
    "\n",
    "df_test_hl['is_Local_holiday'] = (df_test_hl['locale'] == 'Local').astype(int)\n",
    "df_test_hl['is_Regional_holiday'] = (df_test_hl['locale'] == 'Regional').astype(int)\n",
    "\n",
    "df_submission_hl['is_Local_holiday'] = (df_submission_hl['locale'] == 'Local').astype(int)\n",
    "df_submission_hl['is_Regional_holiday'] = (df_submission_hl['locale'] == 'Regional').astype(int)"
   ]
  },
  {
   "cell_type": "markdown",
   "metadata": {},
   "source": [
    "- Create a binary variable for local and regional"
   ]
  },
  {
   "cell_type": "code",
   "execution_count": 66,
   "metadata": {},
   "outputs": [],
   "source": [
    "from scipy.stats import ttest_ind\n",
    "def check_holidays(df, locale):    \n",
    "    results = []\n",
    "    for store_id, store_data in df.groupby('store_nbr'):\n",
    "        store_data = store_data.sort_values(by='date')\n",
    "        print('store: ', store_id)\n",
    "        # Identify holiday dates for the store\n",
    "        holidays = holidays_events_fil.loc[holidays_events_fil['locale'] == locale, ['date', 'description']]\n",
    "        \n",
    "        for i, holiday in holidays.iterrows():\n",
    "            holiday_date = holiday['date']\n",
    "            holiday_description = holiday['description']\n",
    "            # Get sales for the holiday, the day before, and the day after\n",
    "            holiday_sales = store_data[(store_data['date'] == holiday_date)][['date', 'sales']]\n",
    "            \n",
    "            # Get non-holiday sales for the same month\n",
    "            same_year = holiday_date.year\n",
    "            same_month = holiday_date.month\n",
    "            same_day_of_week = holiday_date.day_of_week\n",
    "            \n",
    "            \n",
    "            non_holiday_sales = store_data[(store_data['date'].dt.month == same_month) &\n",
    "                                        (store_data['date'].dt.year == same_year) &\n",
    "                                        (store_data['date'].dt.day_of_week == same_day_of_week) &\n",
    "                                        (~store_data[f'is_{locale}_holiday']) &\n",
    "                                        (store_data['date'] != holiday_date)][['date', 'sales']]\n",
    "            mean_holiday_sales = holiday_sales.groupby('date')['sales'].sum().mean()\n",
    "            mean_non_holiday_sales = non_holiday_sales.groupby('date')['sales'].sum().mean()\n",
    "            std_non_holiday_sales = non_holiday_sales.groupby('date')['sales'].sum().std()\n",
    "                \n",
    "            results.append({\n",
    "                'store_id': store_id,\n",
    "                'holiday_date': holiday_date,\n",
    "                'holiday_description': holiday_description, \n",
    "                'mean_holiday_sales': mean_holiday_sales,\n",
    "                'mean_non_holiday_sales': mean_non_holiday_sales,\n",
    "                'std_non_holiday_sales': std_non_holiday_sales,\n",
    "                'consider': mean_holiday_sales > mean_non_holiday_sales + std_non_holiday_sales,\n",
    "                'locale': locale\n",
    "            })\n",
    "    \n",
    "\n",
    "    results_df = pd.DataFrame(results)\n",
    "    return results_df"
   ]
  },
  {
   "cell_type": "markdown",
   "metadata": {},
   "source": [
    "- This function checks whether local and regional holidays have affected store sales. \n",
    "- This is done because we don't know which stores the local and regional holidays apply to. \n",
    "- The idea is to see if sales on the day of the holiday were 1 standard deviation above the average sales on the same days of the week in the same month."
   ]
  },
  {
   "cell_type": "code",
   "execution_count": 67,
   "metadata": {},
   "outputs": [
    {
     "data": {
      "text/html": [
       "<div>\n",
       "<style scoped>\n",
       "    .dataframe tbody tr th:only-of-type {\n",
       "        vertical-align: middle;\n",
       "    }\n",
       "\n",
       "    .dataframe tbody tr th {\n",
       "        vertical-align: top;\n",
       "    }\n",
       "\n",
       "    .dataframe thead th {\n",
       "        text-align: right;\n",
       "    }\n",
       "</style>\n",
       "<table border=\"1\" class=\"dataframe\">\n",
       "  <thead>\n",
       "    <tr style=\"text-align: right;\">\n",
       "      <th></th>\n",
       "      <th>store_id</th>\n",
       "      <th>holiday_description</th>\n",
       "      <th>locale</th>\n",
       "      <th>consider</th>\n",
       "    </tr>\n",
       "  </thead>\n",
       "  <tbody>\n",
       "    <tr>\n",
       "      <th>0</th>\n",
       "      <td>1</td>\n",
       "      <td>Cantonizacion de Cayambe</td>\n",
       "      <td>Local</td>\n",
       "      <td>False</td>\n",
       "    </tr>\n",
       "    <tr>\n",
       "      <th>1</th>\n",
       "      <td>1</td>\n",
       "      <td>Cantonizacion de El Carmen</td>\n",
       "      <td>Local</td>\n",
       "      <td>True</td>\n",
       "    </tr>\n",
       "    <tr>\n",
       "      <th>2</th>\n",
       "      <td>1</td>\n",
       "      <td>Cantonizacion de Guaranda</td>\n",
       "      <td>Local</td>\n",
       "      <td>False</td>\n",
       "    </tr>\n",
       "    <tr>\n",
       "      <th>3</th>\n",
       "      <td>1</td>\n",
       "      <td>Cantonizacion de Latacunga</td>\n",
       "      <td>Local</td>\n",
       "      <td>True</td>\n",
       "    </tr>\n",
       "    <tr>\n",
       "      <th>4</th>\n",
       "      <td>1</td>\n",
       "      <td>Cantonizacion de Libertad</td>\n",
       "      <td>Local</td>\n",
       "      <td>False</td>\n",
       "    </tr>\n",
       "  </tbody>\n",
       "</table>\n",
       "</div>"
      ],
      "text/plain": [
       "   store_id         holiday_description locale  consider\n",
       "0         1    Cantonizacion de Cayambe  Local     False\n",
       "1         1  Cantonizacion de El Carmen  Local      True\n",
       "2         1   Cantonizacion de Guaranda  Local     False\n",
       "3         1  Cantonizacion de Latacunga  Local      True\n",
       "4         1   Cantonizacion de Libertad  Local     False"
      ]
     },
     "execution_count": 67,
     "metadata": {},
     "output_type": "execute_result"
    }
   ],
   "source": [
    "# results_train_local = check_holidays(df_train_hl, 'Local')\n",
    "# results_train_regional = check_holidays(df_train_hl, 'Regional')\n",
    "# results_train = pd.concat([results_train_local, results_train_regional])\n",
    "\n",
    "# results_grouped = results_train.groupby(['store_id', 'holiday_description', 'locale'])['consider'].max().reset_index()\n",
    "\n",
    "# results_grouped.to_csv('./Data/step1/check_holidays.csv', index=False)\n",
    "\n",
    "results_grouped = pd.read_csv('./Data/step2/check_holidays.csv')\n",
    "results_grouped.head()"
   ]
  },
  {
   "cell_type": "code",
   "execution_count": 68,
   "metadata": {},
   "outputs": [],
   "source": [
    "df_train_hl_valid = df_train_hl.merge(results_grouped, left_on=['description', 'store_nbr', 'locale'], right_on=['holiday_description', 'store_id', 'locale'], how='left')\n",
    "df_test_hl_valid = df_test_hl.merge(results_grouped, left_on=['description', 'store_nbr', 'locale'], right_on=['holiday_description', 'store_id', 'locale'], how='left')\n",
    "df_submission_hl_valid = df_submission_hl.merge(results_grouped, left_on=['description', 'store_nbr', 'locale'], right_on=['holiday_description', 'store_id', 'locale'], how='left')\n",
    "\n",
    "df_train_hl_valid['is_Local_holiday_real'] = (df_train_hl_valid['is_Local_holiday'] & df_train_hl_valid['consider']).astype(int)\n",
    "df_train_hl_valid['is_Regional_holiday_real'] = (df_train_hl_valid['is_Regional_holiday'] & df_train_hl_valid['consider']).astype(int)\n",
    "\n",
    "df_test_hl_valid['is_Local_holiday_real'] = (df_test_hl_valid['is_Local_holiday'] & df_test_hl_valid['consider']).astype(int)\n",
    "df_test_hl_valid['is_Regional_holiday_real'] = (df_test_hl_valid['is_Regional_holiday'] & df_test_hl_valid['consider']).astype(int)\n",
    "\n",
    "\n",
    "df_submission_hl_valid['is_Local_holiday_real'] = (df_submission_hl_valid['is_Local_holiday'] & df_submission_hl_valid['consider']).astype(int)\n",
    "df_submission_hl_valid['is_Regional_holiday_real'] = (df_submission_hl_valid['is_Regional_holiday'] & df_submission_hl_valid['consider']).astype(int)"
   ]
  },
  {
   "cell_type": "markdown",
   "metadata": {},
   "source": [
    "## Encoding"
   ]
  },
  {
   "cell_type": "code",
   "execution_count": 69,
   "metadata": {},
   "outputs": [],
   "source": [
    "\n",
    "def encode_one_how(X_train, X_test, X_submission, categorical_cols):\n",
    "    encoder = OneHotEncoder(sparse_output=False, handle_unknown='ignore')\n",
    "    encoder.fit(X_train[categorical_cols])\n",
    "\n",
    "    # Transform the training and test data\n",
    "    train_encoded_array = encoder.transform(X_train[categorical_cols])\n",
    "    test_encoded_array = encoder.transform(X_test[categorical_cols])\n",
    "    submission_encoded_array = encoder.transform(X_submission[categorical_cols])\n",
    "    \n",
    "\n",
    "    # Create DataFrames with the encoded data\n",
    "    train_encoded_df = pd.DataFrame(train_encoded_array, columns=encoder.get_feature_names_out(categorical_cols), index=X_train.index)\n",
    "    test_encoded_df = pd.DataFrame(test_encoded_array, columns=encoder.get_feature_names_out(categorical_cols), index=X_test.index)\n",
    "    submission_encoded_df = pd.DataFrame(submission_encoded_array, columns=encoder.get_feature_names_out(categorical_cols), index=X_submission.index)\n",
    "    \n",
    "\n",
    "    # Concatenate the original DataFrame (excluding the original categorical columns) with the encoded DataFrame\n",
    "    X_train_encoded = pd.concat([X_train.drop(columns=categorical_cols), train_encoded_df], axis=1)\n",
    "    X_test_encoded = pd.concat([X_test.drop(columns=categorical_cols), test_encoded_df], axis=1)\n",
    "    X_submission_encoded = pd.concat([X_submission.drop(columns=categorical_cols), submission_encoded_df], axis=1)\n",
    "    \n",
    "    return X_train_encoded, X_test_encoded, X_submission_encoded\n",
    "        "
   ]
  },
  {
   "cell_type": "code",
   "execution_count": 70,
   "metadata": {},
   "outputs": [],
   "source": [
    "df_train_en_1 = df_train_hl_valid.groupby(['store_nbr', 'date', 'family'])[\n",
    "    [\n",
    "        'is_National_holiday', \n",
    "        'day_after_national_holiday',\n",
    "       'day_before_national_holiday',\n",
    "       'is_Local_holiday',\n",
    "       'is_Regional_holiday',\n",
    "       'is_Local_holiday_real', \n",
    "       'is_Regional_holiday_real'\n",
    "       \n",
    "    ]\n",
    "].max().reset_index()\n",
    "\n",
    "df_test_en_1 = df_test_hl_valid.groupby(['store_nbr', 'date', 'family'])[\n",
    "    [\n",
    "            'is_National_holiday', \n",
    "        'day_after_national_holiday',\n",
    "       'day_before_national_holiday',\n",
    "       'is_Local_holiday',\n",
    "       'is_Regional_holiday',\n",
    "       'is_Local_holiday_real', \n",
    "       'is_Regional_holiday_real'\n",
    "    ]\n",
    "].max().reset_index()\n",
    "\n",
    "df_submission_en_1 = df_submission_hl_valid.groupby(['store_nbr', 'date', 'family'])[\n",
    "    [\n",
    "        'is_National_holiday', \n",
    "        'day_after_national_holiday',\n",
    "       'day_before_national_holiday',\n",
    "       'is_Local_holiday',\n",
    "       'is_Regional_holiday',\n",
    "       'is_Local_holiday_real', \n",
    "       'is_Regional_holiday_real'\n",
    "    ]\n",
    "].max().reset_index()"
   ]
  },
  {
   "cell_type": "code",
   "execution_count": 71,
   "metadata": {},
   "outputs": [],
   "source": [
    "df_train = pd.concat([df_train, df_train_en_1.drop(columns=['store_nbr', 'date', 'family'])], axis=1)\n",
    "df_test = pd.concat([df_test, df_test_en_1.drop(columns=['store_nbr', 'date', 'family'])], axis=1)\n",
    "df_submission = pd.concat([df_submission, df_submission_en_1.drop(columns=['store_nbr', 'date', 'family'])], axis=1)"
   ]
  },
  {
   "cell_type": "code",
   "execution_count": 72,
   "metadata": {},
   "outputs": [],
   "source": [
    "cols = [\n",
    "    'store_nbr',\n",
    "    'family', \n",
    "    'onpromotion', \n",
    "    'year', \n",
    "    'month', \n",
    "    'day_of_week', \n",
    "    'in_store_list', \n",
    "    'day_off_store', \n",
    "    'is_National_holiday', \n",
    "    'day_after_national_holiday',\n",
    "    'day_before_national_holiday',\n",
    "    'is_Local_holiday',\n",
    "    'is_Regional_holiday',\n",
    "    'is_Local_holiday_real', \n",
    "    'is_Regional_holiday_real'\n",
    "]"
   ]
  },
  {
   "cell_type": "code",
   "execution_count": 73,
   "metadata": {},
   "outputs": [],
   "source": [
    "X_train, y_train = df_train[cols], df_train['sales']\n",
    "X_test, y_test = df_test[cols], df_test['sales']\n",
    "X_submission = df_submission[cols + ['id']]"
   ]
  },
  {
   "cell_type": "code",
   "execution_count": 74,
   "metadata": {},
   "outputs": [],
   "source": [
    "X_train_1, X_test_1, X_submission_1 = encode_one_how(X_train, X_test, X_submission, ['family', 'month', 'day_of_week'])"
   ]
  },
  {
   "cell_type": "code",
   "execution_count": 75,
   "metadata": {},
   "outputs": [
    {
     "data": {
      "text/plain": [
       "((2603502, 64), (404514, 64), (28512, 65))"
      ]
     },
     "execution_count": 75,
     "metadata": {},
     "output_type": "execute_result"
    }
   ],
   "source": [
    "X_train_1.shape, X_test_1.shape, X_submission_1.shape"
   ]
  },
  {
   "cell_type": "code",
   "execution_count": 76,
   "metadata": {},
   "outputs": [
    {
     "data": {
      "text/plain": [
       "store_nbr                     0\n",
       "onpromotion                   0\n",
       "family_LIQUOR,WINE,BEER       0\n",
       "family_MAGAZINES              0\n",
       "family_MEATS                  0\n",
       "                             ..\n",
       "family_HARDWARE               0\n",
       "family_HOME AND KITCHEN I     0\n",
       "family_HOME AND KITCHEN II    0\n",
       "family_HOME APPLIANCES        0\n",
       "day_of_week_Wednesday         0\n",
       "Length: 64, dtype: int64"
      ]
     },
     "execution_count": 76,
     "metadata": {},
     "output_type": "execute_result"
    }
   ],
   "source": [
    "X_train_1.isna().sum().sort_values(ascending=False)"
   ]
  },
  {
   "cell_type": "markdown",
   "metadata": {},
   "source": [
    "### Models Evaluation"
   ]
  },
  {
   "cell_type": "code",
   "execution_count": 77,
   "metadata": {},
   "outputs": [],
   "source": [
    "# Train and evaluate model for each store\n",
    "def rmsle(y_true, y_pred):\n",
    "    return np.sqrt(mean_squared_log_error(y_true, y_pred))\n",
    "rmsle_scorer = make_scorer(rmsle, greater_is_better=False)\n"
   ]
  },
  {
   "cell_type": "markdown",
   "metadata": {},
   "source": [
    "#### Compare Models and Training Sets - One Store Prediction"
   ]
  },
  {
   "cell_type": "code",
   "execution_count": 78,
   "metadata": {},
   "outputs": [],
   "source": [
    "# Define models\n",
    "models = {\n",
    "    'RandomForest': RandomForestRegressor(random_state=42),\n",
    "    'XGBoost': GradientBoostingRegressor(random_state=42)\n",
    "}\n",
    "\n",
    "sets = {\n",
    "    'With National, Local and Regional Holidays': [\n",
    "        X_train_1[X_train_1['store_nbr'] == 10].drop(columns='store_nbr'), \n",
    "        y_train[X_train_1['store_nbr'] == 10], \n",
    "        X_test_1[X_test_1['store_nbr'] == 10].drop(columns='store_nbr'), \n",
    "        y_test[X_test_1['store_nbr'] == 10]\n",
    "    ]\n",
    "    \n",
    "}\n",
    "def evaluate_models(models, sets):\n",
    "    results = []\n",
    "\n",
    "    for set_name, data in sets.items():\n",
    "        X_train, y_train, X_test, y_test = data\n",
    "        \n",
    "        for model_name, model in models.items():\n",
    "            # Train the model\n",
    "            model.fit(X_train, y_train)\n",
    "            \n",
    "            # Predict on the test set\n",
    "            y_pred = model.predict(X_test)\n",
    "            y_pred[y_pred < 0] = 0\n",
    "            # Calculate Mean Squared Error\n",
    "            score = rmsle(y_test, y_pred)\n",
    "            \n",
    "            # Append results\n",
    "            results.append({\n",
    "                'Set': set_name,\n",
    "                'Model': model_name,\n",
    "                'RMSLE': score\n",
    "            })\n",
    "    return pd.DataFrame(results)"
   ]
  },
  {
   "cell_type": "code",
   "execution_count": 79,
   "metadata": {},
   "outputs": [
    {
     "data": {
      "text/html": [
       "<div>\n",
       "<style scoped>\n",
       "    .dataframe tbody tr th:only-of-type {\n",
       "        vertical-align: middle;\n",
       "    }\n",
       "\n",
       "    .dataframe tbody tr th {\n",
       "        vertical-align: top;\n",
       "    }\n",
       "\n",
       "    .dataframe thead th {\n",
       "        text-align: right;\n",
       "    }\n",
       "</style>\n",
       "<table border=\"1\" class=\"dataframe\">\n",
       "  <thead>\n",
       "    <tr style=\"text-align: right;\">\n",
       "      <th></th>\n",
       "      <th>Set</th>\n",
       "      <th>Model</th>\n",
       "      <th>RMSLE</th>\n",
       "    </tr>\n",
       "  </thead>\n",
       "  <tbody>\n",
       "    <tr>\n",
       "      <th>0</th>\n",
       "      <td>With National, Local and Regional Holidays</td>\n",
       "      <td>RandomForest</td>\n",
       "      <td>0.573349</td>\n",
       "    </tr>\n",
       "    <tr>\n",
       "      <th>1</th>\n",
       "      <td>With National, Local and Regional Holidays</td>\n",
       "      <td>XGBoost</td>\n",
       "      <td>1.681040</td>\n",
       "    </tr>\n",
       "  </tbody>\n",
       "</table>\n",
       "</div>"
      ],
      "text/plain": [
       "                                          Set         Model     RMSLE\n",
       "0  With National, Local and Regional Holidays  RandomForest  0.573349\n",
       "1  With National, Local and Regional Holidays       XGBoost  1.681040"
      ]
     },
     "execution_count": 79,
     "metadata": {},
     "output_type": "execute_result"
    }
   ],
   "source": [
    "results = evaluate_models(models, sets)\n",
    "results"
   ]
  },
  {
   "cell_type": "code",
   "execution_count": 80,
   "metadata": {},
   "outputs": [],
   "source": [
    "results.to_csv('./Data/step2/results.csv')"
   ]
  },
  {
   "cell_type": "markdown",
   "metadata": {},
   "source": [
    "- Results got worst with holidays addition, when compared to step1 results\n"
   ]
  },
  {
   "cell_type": "markdown",
   "metadata": {},
   "source": [
    "#### Train for all Stores "
   ]
  },
  {
   "cell_type": "code",
   "execution_count": 82,
   "metadata": {},
   "outputs": [],
   "source": [
    "\n",
    "\n",
    "def train_per_store(stores, X_train, y_train, X_test, y_test):\n",
    "    all_y_true = []\n",
    "    all_y_pred_rf = []\n",
    "    models = {}\n",
    "\n",
    "    for store_nbr in stores:\n",
    "        print('Store', store_nbr)\n",
    "        X_train_st = X_train[X_train['store_nbr'] == store_nbr].drop(columns=['store_nbr'])\n",
    "        X_test_st = X_test[X_test['store_nbr'] == store_nbr].drop(columns=['store_nbr'])\n",
    "        \n",
    "        y_train_st = y_train[X_train['store_nbr'] == store_nbr]\n",
    "        y_test_st = y_test[X_test['store_nbr'] == store_nbr]\n",
    "        \n",
    "        # Train Random Forest Regressor\n",
    "        rf = RandomForestRegressor(random_state=42)\n",
    "        rf.fit(X_train_st, y_train_st) \n",
    "        # Make predictions\n",
    "        y_pred_rf = rf.predict(X_test_st)\n",
    "        # Append true values and predictions to the lists\n",
    "        all_y_true.extend(y_test_st)\n",
    "        all_y_pred_rf.extend(y_pred_rf)\n",
    "        \n",
    "        \n",
    "        models[store_nbr] = {\n",
    "            'rf': rf\n",
    "        }\n",
    "    \n",
    "    total_rmsle_rf = rmsle(np.array(all_y_true), np.array(all_y_pred_rf))\n",
    "\n",
    "    return {\n",
    "        'Random Forest': total_rmsle_rf,\n",
    "        'models': models\n",
    "    }\n",
    "        \n",
    "def predict_per_store(models, X_submission, model_name='rf'):\n",
    "    stores = X_submission['store_nbr'].unique()\n",
    "    predictions = {'id': [], 'sales': []}\n",
    "    for store in stores:\n",
    "        X_submission_st = X_submission[X_submission['store_nbr'] == store]\n",
    "        ids = X_submission_st['id']\n",
    "        X_submission_st = X_submission_st.drop(columns=['id', 'store_nbr'])\n",
    "        y_pred = models[store][model_name].predict(X_submission_st)\n",
    "\n",
    "        predictions['id'] += list(ids)\n",
    "        predictions['sales'] += list(y_pred)\n",
    "        \n",
    "    predictions_df = pd.DataFrame(predictions)\n",
    "    return predictions_df\n",
    "        \n"
   ]
  },
  {
   "cell_type": "code",
   "execution_count": 83,
   "metadata": {},
   "outputs": [
    {
     "name": "stdout",
     "output_type": "stream",
     "text": [
      "Store 1\n"
     ]
    },
    {
     "name": "stdout",
     "output_type": "stream",
     "text": [
      "Store 10\n",
      "Store 11\n",
      "Store 12\n",
      "Store 13\n",
      "Store 14\n",
      "Store 15\n",
      "Store 16\n",
      "Store 17\n",
      "Store 18\n",
      "Store 19\n",
      "Store 2\n",
      "Store 20\n",
      "Store 21\n",
      "Store 22\n",
      "Store 23\n",
      "Store 24\n",
      "Store 25\n",
      "Store 26\n",
      "Store 27\n",
      "Store 28\n",
      "Store 29\n",
      "Store 3\n",
      "Store 30\n",
      "Store 31\n",
      "Store 32\n",
      "Store 33\n",
      "Store 34\n",
      "Store 35\n",
      "Store 36\n",
      "Store 37\n",
      "Store 38\n",
      "Store 39\n",
      "Store 4\n",
      "Store 40\n",
      "Store 41\n",
      "Store 42\n",
      "Store 43\n",
      "Store 44\n",
      "Store 45\n",
      "Store 46\n",
      "Store 47\n",
      "Store 48\n",
      "Store 49\n",
      "Store 5\n",
      "Store 50\n",
      "Store 51\n",
      "Store 52\n",
      "Store 53\n",
      "Store 54\n",
      "Store 6\n",
      "Store 7\n",
      "Store 8\n",
      "Store 9\n",
      "RMLSE with One hot 0.7520622232681453\n"
     ]
    }
   ],
   "source": [
    "stores = df_train['store_nbr'].unique()\n",
    "result = train_per_store(stores, X_train_1, y_train, X_test_1, y_test)\n",
    "print('RMLSE with One hot', result['Random Forest'])"
   ]
  },
  {
   "cell_type": "code",
   "execution_count": 84,
   "metadata": {},
   "outputs": [],
   "source": [
    "second_submission_df = predict_per_store(result['models'], X_submission_1)\n",
    "second_submission_df.to_csv('./Data/submssions/submission_step2.csv', index=False)"
   ]
  },
  {
   "cell_type": "markdown",
   "metadata": {},
   "source": [
    "## Save Models"
   ]
  },
  {
   "cell_type": "code",
   "execution_count": 81,
   "metadata": {},
   "outputs": [],
   "source": [
    "df_train.to_csv('./Data/step2/df_train.csv', index=False)\n",
    "df_test.to_csv('./Data/step2/df_test.csv', index=False)\n",
    "df_submission.to_csv('./Data/step2/df_submission.csv', index=False)"
   ]
  }
 ],
 "metadata": {
  "kernelspec": {
   "display_name": "env",
   "language": "python",
   "name": "python3"
  },
  "language_info": {
   "codemirror_mode": {
    "name": "ipython",
    "version": 3
   },
   "file_extension": ".py",
   "mimetype": "text/x-python",
   "name": "python",
   "nbconvert_exporter": "python",
   "pygments_lexer": "ipython3",
   "version": "3.10.3"
  },
  "orig_nbformat": 4
 },
 "nbformat": 4,
 "nbformat_minor": 2
}
