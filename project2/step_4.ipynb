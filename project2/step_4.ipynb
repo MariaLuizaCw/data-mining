{
 "cells": [
  {
   "cell_type": "code",
   "execution_count": 4,
   "metadata": {},
   "outputs": [],
   "source": [
    "import pandas as pd \n",
    "import numpy as np\n",
    "import matplotlib.pyplot as plt\n",
    "import seaborn as sns\n",
    "import numpy as np\n",
    "\n",
    "from sklearn.model_selection import cross_val_score\n",
    "from sklearn.metrics import make_scorer, mean_squared_log_error\n",
    "from sklearn.model_selection import TimeSeriesSplit, cross_val_score\n",
    "from sklearn.linear_model import LinearRegression\n",
    "from sklearn.ensemble import RandomForestRegressor, GradientBoostingRegressor\n",
    "import matplotlib.pyplot as plt\n",
    "\n",
    "\n",
    "import pandas as pd\n",
    "from sklearn.preprocessing import OneHotEncoder\n"
   ]
  },
  {
   "cell_type": "markdown",
   "metadata": {},
   "source": [
    "# STEP 4: Payment of employees\n",
    "\n",
    "\n",
    "- Wages in the public sector are paid every two weeks on the 15 th and on the last day of the month. Supermarket sales could be affected by this.\n",
    "\n",
    "<hr/>"
   ]
  },
  {
   "cell_type": "code",
   "execution_count": 5,
   "metadata": {},
   "outputs": [],
   "source": [
    "df_train = pd.read_csv('./Data/step3/df_train.csv')\n",
    "df_test = pd.read_csv('./Data/step3/df_test.csv')\n",
    "df_submission = pd.read_csv('./Data/step3/df_submission.csv')\n",
    "\n",
    "df_train['date'] = pd.to_datetime(df_train['date'])\n",
    "df_test['date'] = pd.to_datetime(df_test['date'])\n",
    "df_submission['date'] = pd.to_datetime(df_submission['date'])"
   ]
  },
  {
   "cell_type": "markdown",
   "metadata": {},
   "source": [
    "### Feature Engineering and Analysis"
   ]
  },
  {
   "cell_type": "markdown",
   "metadata": {},
   "source": [
    "#### Checking Payment days"
   ]
  },
  {
   "cell_type": "code",
   "execution_count": 6,
   "metadata": {},
   "outputs": [
    {
     "data": {
      "image/png": "[encoded data removed]",
      "text/plain": [
       "<Figure size 720x432 with 1 Axes>"
      ]
     },
     "metadata": {
      "needs_background": "light"
     },
     "output_type": "display_data"
    }
   ],
   "source": [
    "from scipy.stats import ks_2samp, ttest_ind\n",
    "\n",
    "# Aggregate sales by date (sum sales for all stores for each day)\n",
    "aggregated_sales = df_train.groupby('date')['sales'].sum().reset_index()\n",
    "\n",
    "# Create indicators for the 15th day and the last day of the month\n",
    "aggregated_sales['is_15th'] = aggregated_sales['date'].dt.day == 15\n",
    "aggregated_sales['is_last_day'] = aggregated_sales['date'].dt.is_month_end\n",
    "\n",
    "# Separate sales data into different periods\n",
    "sales_15th = aggregated_sales[aggregated_sales['is_15th']]['sales']\n",
    "sales_last_day = aggregated_sales[aggregated_sales['is_last_day']]['sales']\n",
    "sales_other = aggregated_sales[~aggregated_sales['is_15th'] & ~aggregated_sales['is_last_day']]['sales']\n",
    "# Data for plotting\n",
    "data = [sales_15th, sales_last_day, sales_other]\n",
    "labels = ['15th Day', 'Last Day of Month', 'Other Times']\n",
    "\n",
    "# Plot the data\n",
    "plt.figure(figsize=(10, 6))\n",
    "plt.boxplot(data, labels=labels, patch_artist=True, \n",
    "            boxprops=dict(facecolor='skyblue', color='blue'), \n",
    "            medianprops=dict(color='red'))\n",
    "plt.xlabel('Period')\n",
    "plt.ylabel('Aggregated Sales')\n",
    "plt.title('Aggregated Sales on the 15th Day, Last Day of Month, and Other Times')\n",
    "plt.show()"
   ]
  },
  {
   "cell_type": "markdown",
   "metadata": {},
   "source": [
    "- The distribution of sales is different for payment days, seems that the median is higher when compared to other days\n"
   ]
  },
  {
   "cell_type": "markdown",
   "metadata": {},
   "source": [
    "#### Add Pay days Features"
   ]
  },
  {
   "cell_type": "code",
   "execution_count": 7,
   "metadata": {},
   "outputs": [],
   "source": [
    "df_train.loc[df_train['date'].dt.day == 15, 'first_pay_day'] = 1\n",
    "df_train['first_pay_day'] = df_train['first_pay_day'].fillna(0)\n",
    "\n",
    "df_test.loc[df_test['date'].dt.day == 15, 'first_pay_day'] = 1\n",
    "df_test['first_pay_day'] = df_test['first_pay_day'].fillna(0)\n",
    "\n",
    "df_submission.loc[df_submission['date'].dt.day == 15, 'first_pay_day'] = 1\n",
    "df_submission['first_pay_day'] = df_submission['first_pay_day'].fillna(0)"
   ]
  },
  {
   "cell_type": "markdown",
   "metadata": {},
   "source": [
    "- Add First Pay day"
   ]
  },
  {
   "cell_type": "code",
   "execution_count": 8,
   "metadata": {},
   "outputs": [],
   "source": [
    "df_train.loc[(df_train['date'].dt.is_month_end), 'second_pay_day'] = 1\n",
    "df_train['second_pay_day'] = df_train['second_pay_day'].fillna(0)\n",
    "\n",
    "df_test.loc[(df_test['date'].dt.is_month_end), 'second_pay_day'] = 1\n",
    "df_test['second_pay_day'] = df_test['second_pay_day'].fillna(0)\n",
    "\n",
    "df_submission.loc[(df_submission['date'].dt.is_month_end), 'second_pay_day'] = 1\n",
    "df_submission['second_pay_day'] = df_submission['second_pay_day'].fillna(0)"
   ]
  },
  {
   "cell_type": "markdown",
   "metadata": {},
   "source": [
    "- Add Second pay day"
   ]
  },
  {
   "cell_type": "markdown",
   "metadata": {},
   "source": [
    "### Encode and Generate Sets"
   ]
  },
  {
   "cell_type": "code",
   "execution_count": null,
   "metadata": {},
   "outputs": [],
   "source": [
    "train_cols = ['store_nbr', 'family', 'onpromotion', 'year', 'month', 'day_of_week', 'in_store_list', 'day_off_store']\n",
    "\n",
    "holiday_cols = ['is_National_holiday', 'day_after_national_holiday',\n",
    "       'day_before_national_holiday', 'is_Local_holiday',\n",
    "       'is_Regional_holiday', 'is_Local_holiday_real',\n",
    "       'is_Regional_holiday_real']\n",
    "\n",
    "oil_cols = ['dcoilwtico']\n",
    "\n",
    "pay_cols = ['first_pay_day', 'second_pay_day']"
   ]
  },
  {
   "cell_type": "code",
   "execution_count": null,
   "metadata": {},
   "outputs": [],
   "source": [
    "X_train_1, y_train = df_train[train_cols + holiday_cols + oil_cols + pay_cols], df_train['sales']\n",
    "X_test_1, y_test = df_test[train_cols + holiday_cols + oil_cols + pay_cols], df_test['sales']\n",
    "X_submission_1 = df_submission[train_cols + holiday_cols + oil_cols + pay_cols + ['id']]"
   ]
  },
  {
   "cell_type": "markdown",
   "metadata": {},
   "source": [
    "- Set with all columns"
   ]
  },
  {
   "cell_type": "code",
   "execution_count": null,
   "metadata": {},
   "outputs": [],
   "source": [
    "X_train_2, y_train = df_train[train_cols + holiday_cols + pay_cols], df_train['sales']\n",
    "X_test_2, y_test = df_test[train_cols + holiday_cols + pay_cols], df_test['sales']\n",
    "X_submission_2 = df_submission[train_cols + holiday_cols + pay_cols + ['id']]"
   ]
  },
  {
   "cell_type": "markdown",
   "metadata": {},
   "source": [
    "- Set with train columns, holiday columns and pay day columns"
   ]
  },
  {
   "cell_type": "code",
   "execution_count": null,
   "metadata": {},
   "outputs": [],
   "source": [
    "X_train_3, y_train = df_train[train_cols + oil_cols + pay_cols], df_train['sales']\n",
    "X_test_3, y_test = df_test[train_cols + oil_cols + pay_cols], df_test['sales']\n",
    "X_submission_3 = df_submission[train_cols + oil_cols + pay_cols + ['id']]"
   ]
  },
  {
   "cell_type": "markdown",
   "metadata": {},
   "source": [
    "- Set with train columns, oil price columns and pay day columns"
   ]
  },
  {
   "cell_type": "code",
   "execution_count": null,
   "metadata": {},
   "outputs": [],
   "source": [
    "X_train_4, y_train = df_train[train_cols + pay_cols], df_train['sales']\n",
    "X_test_4, y_test = df_test[train_cols + pay_cols], df_test['sales']\n",
    "X_submission_4 = df_submission[train_cols + pay_cols + ['id']]"
   ]
  },
  {
   "cell_type": "markdown",
   "metadata": {},
   "source": [
    "- Set with train columns and pay day columns"
   ]
  },
  {
   "cell_type": "code",
   "execution_count": null,
   "metadata": {},
   "outputs": [],
   "source": [
    "\n",
    "def encode_one_how(X_train, X_test, X_submission, categorical_cols):\n",
    "    encoder = OneHotEncoder(sparse_output=False, handle_unknown='ignore')\n",
    "    encoder.fit(X_train[categorical_cols])\n",
    "\n",
    "    # Transform the training and test data\n",
    "    train_encoded_array = encoder.transform(X_train[categorical_cols])\n",
    "    test_encoded_array = encoder.transform(X_test[categorical_cols])\n",
    "    submission_encoded_array = encoder.transform(X_submission[categorical_cols])\n",
    "    \n",
    "\n",
    "    # Create DataFrames with the encoded data\n",
    "    train_encoded_df = pd.DataFrame(train_encoded_array, columns=encoder.get_feature_names_out(categorical_cols), index=X_train.index)\n",
    "    test_encoded_df = pd.DataFrame(test_encoded_array, columns=encoder.get_feature_names_out(categorical_cols), index=X_test.index)\n",
    "    submission_encoded_df = pd.DataFrame(submission_encoded_array, columns=encoder.get_feature_names_out(categorical_cols), index=X_submission.index)\n",
    "    \n",
    "\n",
    "    # Concatenate the original DataFrame (excluding the original categorical columns) with the encoded DataFrame\n",
    "    X_train_encoded = pd.concat([X_train.drop(columns=categorical_cols), train_encoded_df], axis=1)\n",
    "    X_test_encoded = pd.concat([X_test.drop(columns=categorical_cols), test_encoded_df], axis=1)\n",
    "    X_submission_encoded = pd.concat([X_submission.drop(columns=categorical_cols), submission_encoded_df], axis=1)\n",
    "    \n",
    "    return X_train_encoded, X_test_encoded, X_submission_encoded\n",
    "        "
   ]
  },
  {
   "cell_type": "code",
   "execution_count": null,
   "metadata": {},
   "outputs": [],
   "source": [
    "X_train_1, X_test_1, X_submission_1 = encode_one_how(X_train_1, X_test_1, X_submission_1, ['family', 'month', 'day_of_week'])"
   ]
  },
  {
   "cell_type": "code",
   "execution_count": null,
   "metadata": {},
   "outputs": [],
   "source": [
    "X_train_2, X_test_2, X_submission_2 = encode_one_how(X_train_2, X_test_2, X_submission_2, ['family', 'month', 'day_of_week'])\n"
   ]
  },
  {
   "cell_type": "code",
   "execution_count": null,
   "metadata": {},
   "outputs": [],
   "source": [
    "X_train_3, X_test_3, X_submission_3 = encode_one_how(X_train_3, X_test_3, X_submission_3, ['family', 'month', 'day_of_week'])\n"
   ]
  },
  {
   "cell_type": "code",
   "execution_count": null,
   "metadata": {},
   "outputs": [],
   "source": [
    "X_train_4, X_test_4, X_submission_4 = encode_one_how(X_train_4, X_test_4, X_submission_4, ['family', 'month', 'day_of_week'])\n"
   ]
  },
  {
   "cell_type": "code",
   "execution_count": null,
   "metadata": {},
   "outputs": [
    {
     "data": {
      "text/plain": [
       "((2603502, 67), (404514, 67), (28512, 68))"
      ]
     },
     "execution_count": 69,
     "metadata": {},
     "output_type": "execute_result"
    }
   ],
   "source": [
    "X_train_1.shape, X_test_1.shape, X_submission_1.shape"
   ]
  },
  {
   "cell_type": "code",
   "execution_count": null,
   "metadata": {},
   "outputs": [
    {
     "data": {
      "text/plain": [
       "((2603502, 66), (404514, 66), (28512, 67))"
      ]
     },
     "execution_count": 70,
     "metadata": {},
     "output_type": "execute_result"
    }
   ],
   "source": [
    "X_train_2.shape, X_test_2.shape, X_submission_2.shape"
   ]
  },
  {
   "cell_type": "code",
   "execution_count": null,
   "metadata": {},
   "outputs": [
    {
     "data": {
      "text/plain": [
       "((2603502, 60), (404514, 60), (28512, 61))"
      ]
     },
     "execution_count": 71,
     "metadata": {},
     "output_type": "execute_result"
    }
   ],
   "source": [
    "X_train_3.shape, X_test_3.shape, X_submission_3.shape"
   ]
  },
  {
   "cell_type": "code",
   "execution_count": null,
   "metadata": {},
   "outputs": [
    {
     "data": {
      "text/plain": [
       "((2603502, 59), (404514, 59), (28512, 60))"
      ]
     },
     "execution_count": 72,
     "metadata": {},
     "output_type": "execute_result"
    }
   ],
   "source": [
    "X_train_4.shape, X_test_4.shape, X_submission_4.shape"
   ]
  },
  {
   "cell_type": "markdown",
   "metadata": {},
   "source": [
    "### Models Evaluation"
   ]
  },
  {
   "cell_type": "code",
   "execution_count": null,
   "metadata": {},
   "outputs": [],
   "source": [
    "# Train and evaluate model for each store\n",
    "def rmsle(y_true, y_pred):\n",
    "    return np.sqrt(mean_squared_log_error(y_true, y_pred))\n",
    "rmsle_scorer = make_scorer(rmsle, greater_is_better=False)\n",
    "\n"
   ]
  },
  {
   "cell_type": "markdown",
   "metadata": {},
   "source": [
    "#### Compare Models and Training Sets - One Store Prediction"
   ]
  },
  {
   "cell_type": "code",
   "execution_count": null,
   "metadata": {},
   "outputs": [],
   "source": [
    "# Define models\n",
    "models = {\n",
    "    'RandomForest': RandomForestRegressor(random_state=42),\n",
    "    'XGBoost': GradientBoostingRegressor(random_state=42)\n",
    "}\n",
    "\n",
    "sets = {\n",
    "    'Train With Oil Prince, Holidays and Pay days': [\n",
    "        X_train_1[X_train_1['store_nbr'] == 10].drop(columns='store_nbr'), \n",
    "        y_train[X_train_1['store_nbr'] == 10], \n",
    "        X_test_1[X_test_1['store_nbr'] == 10].drop(columns='store_nbr'), \n",
    "        y_test[X_test_1['store_nbr'] == 10]\n",
    "    ],\n",
    "    'Train With Holidays and Pay days': [\n",
    "        X_train_2[X_train_2['store_nbr'] == 10].drop(columns='store_nbr'), \n",
    "        y_train[X_train_2['store_nbr'] == 10], \n",
    "        X_test_2[X_test_2['store_nbr'] == 10].drop(columns='store_nbr'), \n",
    "        y_test[X_test_2['store_nbr'] == 10]\n",
    "    ],\n",
    "    'Train With Oil Prince and Pay days': [\n",
    "        X_train_3[X_train_3['store_nbr'] == 10].drop(columns='store_nbr'), \n",
    "        y_train[X_train_3['store_nbr'] == 10], \n",
    "        X_test_3[X_test_3['store_nbr'] == 10].drop(columns='store_nbr'), \n",
    "        y_test[X_test_3['store_nbr'] == 10]\n",
    "    ],\n",
    "          'Train With Pay days': [\n",
    "        X_train_4[X_train_4['store_nbr'] == 10].drop(columns='store_nbr'), \n",
    "        y_train[X_train_4['store_nbr'] == 10], \n",
    "        X_test_4[X_test_4['store_nbr'] == 10].drop(columns='store_nbr'), \n",
    "        y_test[X_test_4['store_nbr'] == 10]\n",
    "    ],\n",
    "    \n",
    "}\n",
    "def evaluate_models(models, sets):\n",
    "    results = []\n",
    "\n",
    "    for set_name, data in sets.items():\n",
    "        X_train, y_train, X_test, y_test = data\n",
    "        \n",
    "        for model_name, model in models.items():\n",
    "            # Train the model\n",
    "            model.fit(X_train, y_train)\n",
    "            \n",
    "            # Predict on the test set\n",
    "            y_pred = model.predict(X_test)\n",
    "            y_pred[y_pred < 0] = 0\n",
    "            # Calculate Mean Squared Error\n",
    "            score = rmsle(y_test, y_pred)\n",
    "            \n",
    "            # Append results\n",
    "            results.append({\n",
    "                'Set': set_name,\n",
    "                'Model': model_name,\n",
    "                'RMSLE': score\n",
    "            })\n",
    "    return pd.DataFrame(results)"
   ]
  },
  {
   "cell_type": "code",
   "execution_count": null,
   "metadata": {},
   "outputs": [
    {
     "data": {
      "text/html": [
       "<div>\n",
       "<style scoped>\n",
       "    .dataframe tbody tr th:only-of-type {\n",
       "        vertical-align: middle;\n",
       "    }\n",
       "\n",
       "    .dataframe tbody tr th {\n",
       "        vertical-align: top;\n",
       "    }\n",
       "\n",
       "    .dataframe thead th {\n",
       "        text-align: right;\n",
       "    }\n",
       "</style>\n",
       "<table border=\"1\" class=\"dataframe\">\n",
       "  <thead>\n",
       "    <tr style=\"text-align: right;\">\n",
       "      <th></th>\n",
       "      <th>Set</th>\n",
       "      <th>Model</th>\n",
       "      <th>RMSLE</th>\n",
       "    </tr>\n",
       "  </thead>\n",
       "  <tbody>\n",
       "    <tr>\n",
       "      <th>0</th>\n",
       "      <td>Train With Oil Prince, Holidays and Pay days</td>\n",
       "      <td>RandomForest</td>\n",
       "      <td>0.569976</td>\n",
       "    </tr>\n",
       "    <tr>\n",
       "      <th>1</th>\n",
       "      <td>Train With Oil Prince, Holidays and Pay days</td>\n",
       "      <td>XGBoost</td>\n",
       "      <td>1.681077</td>\n",
       "    </tr>\n",
       "    <tr>\n",
       "      <th>2</th>\n",
       "      <td>Train With Holidays and Pay days</td>\n",
       "      <td>RandomForest</td>\n",
       "      <td>0.574506</td>\n",
       "    </tr>\n",
       "    <tr>\n",
       "      <th>3</th>\n",
       "      <td>Train With Holidays and Pay days</td>\n",
       "      <td>XGBoost</td>\n",
       "      <td>1.680999</td>\n",
       "    </tr>\n",
       "    <tr>\n",
       "      <th>4</th>\n",
       "      <td>Train With Oil Prince and Pay days</td>\n",
       "      <td>RandomForest</td>\n",
       "      <td>0.573115</td>\n",
       "    </tr>\n",
       "    <tr>\n",
       "      <th>5</th>\n",
       "      <td>Train With Oil Prince and Pay days</td>\n",
       "      <td>XGBoost</td>\n",
       "      <td>1.681077</td>\n",
       "    </tr>\n",
       "    <tr>\n",
       "      <th>6</th>\n",
       "      <td>Train With Pay days</td>\n",
       "      <td>RandomForest</td>\n",
       "      <td>0.568407</td>\n",
       "    </tr>\n",
       "    <tr>\n",
       "      <th>7</th>\n",
       "      <td>Train With Pay days</td>\n",
       "      <td>XGBoost</td>\n",
       "      <td>1.680940</td>\n",
       "    </tr>\n",
       "  </tbody>\n",
       "</table>\n",
       "</div>"
      ],
      "text/plain": [
       "                                            Set         Model     RMSLE\n",
       "0  Train With Oil Prince, Holidays and Pay days  RandomForest  0.569976\n",
       "1  Train With Oil Prince, Holidays and Pay days       XGBoost  1.681077\n",
       "2              Train With Holidays and Pay days  RandomForest  0.574506\n",
       "3              Train With Holidays and Pay days       XGBoost  1.680999\n",
       "4            Train With Oil Prince and Pay days  RandomForest  0.573115\n",
       "5            Train With Oil Prince and Pay days       XGBoost  1.681077\n",
       "6                           Train With Pay days  RandomForest  0.568407\n",
       "7                           Train With Pay days       XGBoost  1.680940"
      ]
     },
     "execution_count": 80,
     "metadata": {},
     "output_type": "execute_result"
    }
   ],
   "source": [
    "results = evaluate_models(models, sets)\n",
    "results"
   ]
  },
  {
   "cell_type": "code",
   "execution_count": null,
   "metadata": {},
   "outputs": [],
   "source": [
    "results.to_csv('./Data/step4/results.csv')"
   ]
  },
  {
   "cell_type": "markdown",
   "metadata": {},
   "source": [
    "- Results got worst with addition of oil price, when compared to step1 results"
   ]
  },
  {
   "cell_type": "markdown",
   "metadata": {},
   "source": [
    "#### Train for all Stores "
   ]
  },
  {
   "cell_type": "code",
   "execution_count": null,
   "metadata": {},
   "outputs": [],
   "source": [
    "\n",
    "\n",
    "def train_per_store(stores, X_train, y_train, X_test, y_test):\n",
    "    all_y_true = []\n",
    "    all_y_pred_rf = []\n",
    "    models = {}\n",
    "\n",
    "    for store_nbr in stores:\n",
    "        print('Store', store_nbr)\n",
    "        X_train_st = X_train[X_train['store_nbr'] == store_nbr].drop(columns=['store_nbr'])\n",
    "        X_test_st = X_test[X_test['store_nbr'] == store_nbr].drop(columns=['store_nbr'])\n",
    "        \n",
    "        y_train_st = y_train[X_train['store_nbr'] == store_nbr]\n",
    "        y_test_st = y_test[X_test['store_nbr'] == store_nbr]\n",
    "        \n",
    "        # Train Random Forest Regressor\n",
    "        rf = RandomForestRegressor(random_state=42)\n",
    "        rf.fit(X_train_st, y_train_st) \n",
    "        # Make predictions\n",
    "        y_pred_rf = rf.predict(X_test_st)\n",
    "        # Append true values and predictions to the lists\n",
    "        all_y_true.extend(y_test_st)\n",
    "        all_y_pred_rf.extend(y_pred_rf)\n",
    "        \n",
    "        \n",
    "        models[store_nbr] = {\n",
    "            'rf': rf\n",
    "        }\n",
    "    \n",
    "    total_rmsle_rf = rmsle(np.array(all_y_true), np.array(all_y_pred_rf))\n",
    "\n",
    "    return {\n",
    "        'Random Forest': total_rmsle_rf,\n",
    "        'models': models\n",
    "    }\n",
    "        \n",
    "def predict_per_store(models, X_submission, model_name='rf'):\n",
    "    stores = X_submission['store_nbr'].unique()\n",
    "    predictions = {'id': [], 'sales': []}\n",
    "    for store in stores:\n",
    "        X_submission_st = X_submission[X_submission['store_nbr'] == store]\n",
    "        ids = X_submission_st['id']\n",
    "        X_submission_st = X_submission_st.drop(columns=['id', 'store_nbr'])\n",
    "        y_pred = models[store][model_name].predict(X_submission_st)\n",
    "\n",
    "        predictions['id'] += list(ids)\n",
    "        predictions['sales'] += list(y_pred)\n",
    "        \n",
    "    predictions_df = pd.DataFrame(predictions)\n",
    "    return predictions_df\n",
    "        \n"
   ]
  },
  {
   "cell_type": "code",
   "execution_count": null,
   "metadata": {},
   "outputs": [
    {
     "name": "stdout",
     "output_type": "stream",
     "text": [
      "Store 1\n"
     ]
    },
    {
     "name": "stdout",
     "output_type": "stream",
     "text": [
      "Store 10\n",
      "Store 11\n",
      "Store 12\n",
      "Store 13\n",
      "Store 14\n",
      "Store 15\n",
      "Store 16\n",
      "Store 17\n",
      "Store 18\n",
      "Store 19\n",
      "Store 2\n",
      "Store 20\n",
      "Store 21\n",
      "Store 22\n",
      "Store 23\n",
      "Store 24\n",
      "Store 25\n",
      "Store 26\n",
      "Store 27\n",
      "Store 28\n",
      "Store 29\n",
      "Store 3\n",
      "Store 30\n",
      "Store 31\n",
      "Store 32\n",
      "Store 33\n",
      "Store 34\n",
      "Store 35\n",
      "Store 36\n",
      "Store 37\n",
      "Store 38\n",
      "Store 39\n",
      "Store 4\n",
      "Store 40\n",
      "Store 41\n",
      "Store 42\n",
      "Store 43\n",
      "Store 44\n",
      "Store 45\n",
      "Store 46\n",
      "Store 47\n",
      "Store 48\n",
      "Store 49\n",
      "Store 5\n",
      "Store 50\n",
      "Store 51\n",
      "Store 52\n",
      "Store 53\n",
      "Store 54\n",
      "Store 6\n",
      "Store 7\n",
      "Store 8\n",
      "Store 9\n",
      "RMLSE with One hot 0.7496543494936854\n"
     ]
    }
   ],
   "source": [
    "stores = df_train['store_nbr'].unique()\n",
    "result = train_per_store(stores, X_train_4, y_train, X_test_4, y_test)\n",
    "print('RMLSE with One hot', result['Random Forest'])"
   ]
  },
  {
   "cell_type": "code",
   "execution_count": null,
   "metadata": {},
   "outputs": [],
   "source": [
    "forth_submission_df = predict_per_store(result['models'], X_submission_4)\n",
    "forth_submission_df.to_csv('./Data/submssions/submission_step4.csv', index=False)"
   ]
  },
  {
   "cell_type": "markdown",
   "metadata": {},
   "source": [
    "## Save Models"
   ]
  },
  {
   "cell_type": "code",
   "execution_count": null,
   "metadata": {},
   "outputs": [],
   "source": [
    "df_train.to_csv('./Data/step4/df_train.csv', index=False)\n",
    "df_test.to_csv('./Data/step4/df_test.csv', index=False)\n",
    "df_submission.to_csv('./Data/step4/df_submission.csv', index=False)"
   ]
  }
 ],
 "metadata": {
  "kernelspec": {
   "display_name": "env",
   "language": "python",
   "name": "python3"
  },
  "language_info": {
   "codemirror_mode": {
    "name": "ipython",
    "version": 3
   },
   "file_extension": ".py",
   "mimetype": "text/x-python",
   "name": "python",
   "nbconvert_exporter": "python",
   "pygments_lexer": "ipython3",
   "version": "3.10.3"
  },
  "orig_nbformat": 4
 },
 "nbformat": 4,
 "nbformat_minor": 2
}
